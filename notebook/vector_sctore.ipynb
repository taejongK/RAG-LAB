{
 "cells": [
  {
   "cell_type": "markdown",
   "metadata": {},
   "source": [
    "## PDF2Markdown\n",
    "\n",
    "- pymupdf4llm"
   ]
  },
  {
   "cell_type": "code",
   "execution_count": 1,
   "metadata": {},
   "outputs": [
    {
     "name": "stdout",
     "output_type": "stream",
     "text": [
      "Processing /home/taejong_kim/workspace/rag-lab/database/BA_사용메뉴얼_분석가.pdf...\n",
      "[                                        ] (0/27[                                        ] (  1/27[                                        ] (  2/27[                                        ] (  3/27[                                        ] (  4/27[                                        ] (  5/27[                                        ] (  6/275[=                                       ] (  7/2[=                                       ] (  8/2[=                                       ] (  9/2[=                                       ] ( 10/2[=                                       ] ( 11/275[=                                       ] ( 12/275[=                                       ] ( 13/27[==                                      ] ( 14/27[==                                      ] ( 15/27[==                                      ] ( 16/27[==                                      ] ( 17/27[==                                      ] ( 18/27[==                                      ] ( 19/27[==                                      ] ( 20/275[===                                     ] ( 21/2[===                                     ] ( 22/2[===                                     ] ( 23/2[===                                     ] ( 24/2[===                                     ] ( 25/2[===                                     ] ( 26/2[===                                     ] ( 27/27[====                                    ] ( 28/27[====                                    ] ( 29/27[====                                    ] ( 30/27[====                                    ] ( 31/27[====                                    ] ( 32/27[====                                    ] ( 33/27[====                                    ] ( 34/275[=====                                   ] ( 35/2[=====                                   ] ( 36/2[=====                                   ] ( 37/2[=====                                   ] ( 38/2[=====                                   ] ( 39/275[=====                                   ] ( 40/2[=====                                   ] ( 41/27[======                                  ] ( 42/27[======                                  ] ( 43/27[======                                  ] ( 44/27[======                                  ] ( 45/27[======                                  ] ( 46/27[======                                  ] ( 47/27[======                                  ] ( 48/275[=======                                 ] ( 49/2[=======                                 ] ( 50/2[=======                                 ] ( 51/2[=======                                 ] ( 52/275[=======                                 ] ( 53/275[=======                                 ] ( 54/27[========                                ] ( 55/27[========                                ] ( 56/27[========                                ] ( 57/27[========                                ] ( 58/27[========                                ] ( 59/27[========                                ] ( 60/27[========                                ] ( 61/275[=========                               ] ( 62/2[=========                               ] ( 63/2[=========                               ] ( 64/2[=========                               ] ( 65/2[=========                               ] ( 66/2[=========                               ] ( 67/2[=========                               ] ( 68/27[==========                              ] ( 69/27[==========                              ] ( 70/27[==========                              ] ( 71/27[==========                              ] ( 72/27[==========                              ] ( 73/27[==========                              ] ( 74/27[==========                              ] ( 75/275[===========                             ] ( 76/275[===========                             ] ( 77/2[===========                             ] ( 78/2[===========                             ] ( 79/2[===========                             ] ( 80/2[===========                             ] ( 81/2[===========                             ] ( 82/27[============                            ] ( 83/27[============                            ] ( 84/27[============                            ] ( 85/27[============                            ] ( 86/27[============                            ] ( 87/27[============                            ] ( 88/27[============                            ] ( 89/275[=============                           ] ( 90/2[=============                           ] ( 91/2[=============                           ] ( 92/2[=============                           ] ( 93/2[=============                           ] ( 94/2[=============                           ] ( 95/2[=============                           ] ( 96/27[==============                          ] ( 97/27[==============                          ] ( 98/27[==============                          ] ( 99/27[==============                          ] (100/27[==============                          ] (101/27[==============                          ] (102/27[==============                          ] (103/275[===============                         ] (104/275[===============                         ] (105/2[===============                         ] (106/2[===============                         ] (107/2[===============                         ] (108/275[===============                         ] (109/27[================                        ] (110/27[================                        ] (111/27[================                        ] (112/27[================                        ] (113/27[================                        ] (114/27[================                        ] (115/27[================                        ] (116/275[=================                       ] (117/2[=================                       ] (118/2[=================                       ] (119/275[=================                       ] (120/2[=================                       ] (121/2[=================                       ] (122/2[=================                       ] (123/27[==================                      ] (124/27[==================                      ] (125/27[==================                      ] (126/27[==================                      ] (127/27[==================                      ] (128/27[==================                      ] (129/27[==================                      ] (130/275[===================                     ] (131/275[===================                     ] (132/2[===================                     ] (133/2[===================                     ] (134/2[===================                     ] (135/2[===================                     ] (136/2[===================                     ] (137/27[====================                    ] (138/27[====================                    ] (139/27[====================                    ] (140/27[====================                    ] (141/27[====================                    ] (142/27[====================                    ] (143/27[====================                    ] (144/275[=====================                   ] (145/2[=====================                   ] (146/275[=====================                   ] (147/2[=====================                   ] (148/2[=====================                   ] (149/2[=====================                   ] (150/2[=====================                   ] (151/27[======================                  ] (152/27[======================                  ] (153/27[======================                  ] (154/27[======================                  ] (155/27[======================                  ] (156/27[======================                  ] (157/27[======================                  ] (158/275[=======================                 ] (159/2[=======================                 ] (160/2[=======================                 ] (161/2[=======================                 ] (162/2[=======================                 ] (163/275[=======================                 ] (164/27[========================                ] (165/27[========================                ] (166/27[========================                ] (167/27[========================                ] (168/27[========================                ] (169/27[========================                ] (170/27[========================                ] (171/275[=========================               ] (172/2[=========================               ] (173/2[=========================               ] (174/2[=========================               ] (175/2[=========================               ] (176/2[=========================               ] (177/2[=========================               ] (178/27[==========================              ] (179/27[==========================              ] (180/27[==========================              ] (181/27[==========================              ] (182/27[==========================              ] (183/27[==========================              ] (184/27[==========================              ] (185/275[===========================             ] (186/2[===========================             ] (187/2[===========================             ] (188/2[===========================             ] (189/2[===========================             ] (190/275[===========================             ] (191/275[===========================             ] (192/27[============================            ] (193/27[============================            ] (194/27[============================            ] (195/27[============================            ] (196/27[============================            ] (197/27[============================            ] (198/27[============================            ] (199/275[=============================           ] (200/275[=============================           ] (201/275[=============================           ] (202/2[=============================           ] (203/275[=============================           ] (204/2[=============================           ] (205/2[=============================           ] (206/27[==============================          ] (207/27[==============================          ] (208/27[==============================          ] (209/27[==============================          ] (210/27[==============================          ] (211/27[==============================          ] (212/27[==============================          ] (213/275[===============================         ] (214/2[===============================         ] (215/2[===============================         ] (216/2[===============================         ] (217/2[===============================         ] (218/2[===============================         ] (219/27[================================        ] (220/27[================================        ] (221/27[================================        ] (222/27[================================        ] (223/27[================================        ] (224/27[================================        ] (225/27[================================        ] (226/275[=================================       ] (227/2[=================================       ] (228/2[=================================       ] (229/2[=================================       ] (230/2[=================================       ] (231/2[=================================       ] (232/2[=================================       ] (233/27[==================================      ] (234/27[==================================      ] (235/27[==================================      ] (236/27[==================================      ] (237/27[==================================      ] (238/27[==================================      ] (239/27[==================================      ] (240/275[===================================     ] (241/275[===================================     ] (242/2[===================================     ] (243/2[===================================     ] (244/2[===================================     ] (245/2[===================================     ] (246/2[===================================     ] (247/27[====================================    ] (248/27[====================================    ] (249/27[====================================    ] (250/27[====================================    ] (251/27[====================================    ] (252/27[====================================    ] (253/27[====================================    ] (254/275[=====================================   ] (255/2[=====================================   ] (256/2[=====================================   ] (257/2[=====================================   ] (258/2[=====================================   ] (259/275[=====================================   ] (260/2[=====================================   ] (261/27[======================================  ] (262/27[======================================  ] (263/27[======================================  ] (264/27[======================================  ] (265/27[======================================  ] (266/27[======================================  ] (267/27[======================================  ] (268/275[======================================= ] (269/2[======================================= ] (270/275[======================================= ] (271/2[======================================= ] (272/2[======================================= ] (273/2[======================================= ] (274/27[========================================] (275/275]\n"
     ]
    }
   ],
   "source": [
    "import pymupdf4llm\n",
    "FILE_PATH = \"/home/taejong_kim/workspace/rag-lab/database/BA_사용메뉴얼_분석가.pdf\"\n",
    "IMG_CONTENT_PATH = \"/home/taejong_kim/workspace/rag-lab/database/image\"\n",
    "\n",
    "md_text = pymupdf4llm.to_markdown(\n",
    "    FILE_PATH, write_images=True, image_path=IMG_CONTENT_PATH)"
   ]
  },
  {
   "cell_type": "code",
   "execution_count": 2,
   "metadata": {},
   "outputs": [],
   "source": [
    "import re\n",
    "\n",
    "splited_markdonw = [item for item in re.split(\n",
    "    r'(?<!##)##(?!##)', md_text) if item != '']"
   ]
  },
  {
   "cell_type": "code",
   "execution_count": null,
   "metadata": {},
   "outputs": [],
   "source": [
    "from langchain.schema import Document\n",
    "\n",
    "\n",
    "def extract_images_and_create_documents(text):\n",
    "    \"\"\"\n",
    "    Markdown 텍스트에서 ![]() 형식의 이미지를 추출하고, \n",
    "    본문과 이미지 리스트를 LangChain Document 객체로 변환\n",
    "    \"\"\"\n",
    "    # 이미지 패턴 탐색 (예: ![alt text](image_url))\n",
    "    image_pattern = re.compile(r'!\\[.*?\\]\\((.*?)\\)')\n",
    "\n",
    "    # 이미지 리스트 추출\n",
    "    images = image_pattern.findall(text)\n",
    "\n",
    "    # 본문에서 이미지 태그 제거\n",
    "    cleaned_text = image_pattern.sub('', text).strip()\n",
    "\n",
    "    # LangChain Document 생성\n",
    "    return Document(page_content=cleaned_text, metadata={\"images\": images})\n",
    "\n",
    "\n",
    "docs4md = []\n",
    "for md in splited_markdonw:\n",
    "    doc = extract_images_and_create_documents(md)\n",
    "    docs4md.append(doc)"
   ]
  },
  {
   "cell_type": "markdown",
   "metadata": {},
   "source": [
    "## Vector Store\n"
   ]
  },
  {
   "cell_type": "code",
   "execution_count": 1,
   "metadata": {},
   "outputs": [
    {
     "data": {
      "text/plain": [
       "True"
      ]
     },
     "execution_count": 1,
     "metadata": {},
     "output_type": "execute_result"
    }
   ],
   "source": [
    "# from langchain_community.embeddings import HuggingFaceEmbeddings\n",
    "from langchain.embeddings import HuggingFaceEmbeddings\n",
    "from langchain_community.vectorstores import FAISS\n",
    "\n",
    "import os\n",
    "from dotenv import load_dotenv\n",
    "import pickle\n",
    "\n",
    "load_dotenv()"
   ]
  },
  {
   "cell_type": "code",
   "execution_count": 4,
   "metadata": {},
   "outputs": [
    {
     "data": {
      "text/plain": [
       "'/home/taejong_kim/workspace/rag-lab/notebook/database/image'"
      ]
     },
     "execution_count": 4,
     "metadata": {},
     "output_type": "execute_result"
    }
   ],
   "source": [
    "ROOT = os.getcwd()\n",
    "IMG_CONTENT_PATH = os.path.join(ROOT, \"database/image\")\n",
    "IMG_CONTENT_PATH"
   ]
  },
  {
   "cell_type": "code",
   "execution_count": null,
   "metadata": {},
   "outputs": [
    {
     "ename": "AttributeError",
     "evalue": "module 'os' has no attribute 'get'",
     "output_type": "error",
     "traceback": [
      "\u001b[0;31m---------------------------------------------------------------------------\u001b[0m",
      "\u001b[0;31mAttributeError\u001b[0m                            Traceback (most recent call last)",
      "Cell \u001b[0;32mIn[2], line 1\u001b[0m\n\u001b[0;32m----> 1\u001b[0m \u001b[43mos\u001b[49m\u001b[38;5;241;43m.\u001b[39;49m\u001b[43mget\u001b[49m\u001b[38;5;241m.\u001b[39mhome()\n",
      "\u001b[0;31mAttributeError\u001b[0m: module 'os' has no attribute 'get'"
     ]
    }
   ],
   "source": [
    "from pathlib import pahth\n"
   ]
  },
  {
   "cell_type": "markdown",
   "metadata": {},
   "source": [
    "### HuggingFace\n",
    "- model = 'jhgan/ko-sroberta-multitask'"
   ]
  },
  {
   "cell_type": "code",
   "execution_count": null,
   "metadata": {},
   "outputs": [],
   "source": [
    "hf = HuggingFaceEmbeddings(\n",
    "    model_name='jhgan/ko-sroberta-multitask')  # embedding model\n",
    "\n",
    "vectorstore = FAISS.from_documents(docs4md, embedding=hf)  # vector store\n",
    "retriever = vectorstore.retriever()"
   ]
  },
  {
   "cell_type": "code",
   "execution_count": 9,
   "metadata": {},
   "outputs": [],
   "source": [
    "VECTORSTORE_PATH = \"/home/taejong_kim/workspace/rag-lab/database/vector_store\"\n",
    "EMBEDDING_MODEL_PATH = \"/home/taejong_kim/workspace/rag-lab/database/embedding_model\" + \\\n",
    "    \"/hf_embedding_model01.pkl\"\n",
    "\n",
    "# vectorstore.save_local(VECTORSTORE_PATH)\n",
    "\n",
    "# with open(EMBEDDING_MODEL_PATH, \"wb\") as f:\n",
    "#     pickle.dump(hf, f)"
   ]
  },
  {
   "cell_type": "code",
   "execution_count": 10,
   "metadata": {},
   "outputs": [
    {
     "name": "stdout",
     "output_type": "stream",
     "text": [
      "검색 결과:  목록\n",
      "\n",
      "1. BRIQUE Analytics에서 다중처리의 의미\n",
      "\n",
      "2. 알고리즘 작성\n",
      "\n",
      "3. 분석플로우 작성 및 실행\n"
     ]
    }
   ],
   "source": [
    "# 1. 저장된 임베딩 모델 불러오기\n",
    "\n",
    "with open(EMBEDDING_MODEL_PATH, \"rb\") as f:\n",
    "    embedding_model = pickle.load(f)\n",
    "\n",
    "# 2. 저장된 벡터스토어 불러오기\n",
    "vectorstore = FAISS.load_local(\n",
    "    VECTORSTORE_PATH, embedding_model, allow_dangerous_deserialization=True)\n",
    "\n",
    "\n",
    "# 3. 검색\n",
    "query = \"분석가\"\n",
    "results = vectorstore.similarity_search(query, top_k=5)\n",
    "\n",
    "print('검색 결과: ', results[0].page_content)"
   ]
  },
  {
   "cell_type": "code",
   "execution_count": null,
   "metadata": {},
   "outputs": [
    {
     "data": {
      "text/plain": [
       "[[], [], [], []]"
      ]
     },
     "execution_count": 41,
     "metadata": {},
     "output_type": "execute_result"
    }
   ],
   "source": [
    "image_paths = [doc.metadata['images'] for doc in results]\n",
    "image_paths\n",
    "\n",
    "# results[1].metadata['images']"
   ]
  },
  {
   "cell_type": "code",
   "execution_count": 15,
   "metadata": {},
   "outputs": [
    {
     "data": {
      "text/plain": [
       "RunnableLambda(itemgetter('분석가'))\n",
       "| VectorStoreRetriever(tags=['FAISS', 'HuggingFaceEmbeddings'], vectorstore=<langchain_community.vectorstores.faiss.FAISS object at 0x7f987582fbf0>, search_kwargs={})\n",
       "| StrOutputParser()"
      ]
     },
     "execution_count": 15,
     "metadata": {},
     "output_type": "execute_result"
    }
   ],
   "source": [
    "from operator import itemgetter\n",
    "from langchain_core.output_parsers import StrOutputParser\n",
    "\n",
    "retriever = vectorstore.as_retriever()\n",
    "\n",
    "itemgetter(query) | retriever | StrOutputParser()"
   ]
  },
  {
   "cell_type": "code",
   "execution_count": 43,
   "metadata": {},
   "outputs": [],
   "source": [
    "for doc in retriever.get_relevant_documents(query, top_k=5):\n",
    "    img_path = doc.metadata[\"images\"]\n",
    "    if len(img_path) > 0:\n",
    "        for img in img_path:\n",
    "            print(img)"
   ]
  },
  {
   "cell_type": "code",
   "execution_count": 27,
   "metadata": {},
   "outputs": [],
   "source": [
    "from langchain_google_genai import ChatGoogleGenerativeAI\n",
    "from langchain_core.prompts import PromptTemplate\n",
    "from langchain_core.output_parsers import StrOutputParser, JsonOutputParser\n",
    "\n",
    "\n",
    "prompt = PromptTemplate.from_template(\n",
    "    \"\"\"\"You are a support agent. \n",
    "Please respond in the same language as the user's input. Detect the language they are using and reply naturally in that language while maintaining clarity and accuracy.\n",
    "\n",
    "If you don't know the answer, just say that you don't know. \n",
    "\n",
    "Use the following pieces of retrieved context to answer the question. \n",
    "\n",
    "#Question: \n",
    "{question} \n",
    "\n",
    "#Context: \n",
    "{context} \n",
    "\n",
    "#Answer:\"\"\"\n",
    ")\n",
    "\n",
    "# 언어 모델\n",
    "llm = ChatGoogleGenerativeAI(model=\"gemini-1.5-pro-latest\")\n",
    "\n",
    "chain = (\n",
    "    {\n",
    "        \"context\": itemgetter(\"question\") | retriever,\n",
    "        \"question\": itemgetter(\"question\"),\n",
    "    }\n",
    "    | prompt\n",
    "    | llm\n",
    "    # | JsonOutputParser()\n",
    ")\n"
   ]
  },
  {
   "cell_type": "code",
   "execution_count": 29,
   "metadata": {},
   "outputs": [],
   "source": [
    "query = {'question':'워크플로우 생성 방법'}\n",
    "answer = chain.invoke(query)"
   ]
  },
  {
   "cell_type": "code",
   "execution_count": 31,
   "metadata": {},
   "outputs": [
    {
     "data": {
      "text/plain": [
       "{'content': '제공된 문서에는 워크플로우 생성 방법에 대한 자세한 설명은 나와 있지 않습니다. 워크플로우를 \"여는\" 방법이나 워크플로우의 \"실행 엔진 정보 조회\" 방법에 대한 내용은 있지만,  \"생성\" 방법에 대한 구체적인 내용은 없습니다.  더 자세한 정보를 원하시면 다른 문서를 참고하시거나, 워크플로우 관련 매뉴얼을 확인해 보시기 바랍니다.',\n",
       " 'additional_kwargs': {},\n",
       " 'response_metadata': {'prompt_feedback': {'block_reason': 0,\n",
       "   'safety_ratings': []},\n",
       "  'finish_reason': 'STOP',\n",
       "  'safety_ratings': []},\n",
       " 'type': 'ai',\n",
       " 'name': None,\n",
       " 'id': 'run-875dcbf5-8997-4b40-b40f-1b0cd99e33a8-0',\n",
       " 'example': False,\n",
       " 'tool_calls': [],\n",
       " 'invalid_tool_calls': [],\n",
       " 'usage_metadata': {'input_tokens': 772,\n",
       "  'output_tokens': 118,\n",
       "  'total_tokens': 890,\n",
       "  'input_token_details': {'cache_read': 0}}}"
      ]
     },
     "execution_count": 31,
     "metadata": {},
     "output_type": "execute_result"
    }
   ],
   "source": [
    "answer.model_dump()"
   ]
  },
  {
   "cell_type": "code",
   "execution_count": 37,
   "metadata": {},
   "outputs": [
    {
     "data": {
      "text/plain": [
       "'워크플로우 생성 방법'"
      ]
     },
     "execution_count": 37,
     "metadata": {},
     "output_type": "execute_result"
    }
   ],
   "source": [
    "query['question']"
   ]
  },
  {
   "cell_type": "code",
   "execution_count": 36,
   "metadata": {},
   "outputs": [
    {
     "data": {
      "text/plain": [
       "['/home/taejong_kim/workspace/rag-lab/database/image/BA_사용메뉴얼_분석가.pdf-172-0.png']"
      ]
     },
     "execution_count": 36,
     "metadata": {},
     "output_type": "execute_result"
    }
   ],
   "source": [
    "img_list = []\n",
    "\n",
    "for doc in retriever.invoke(query['question']):\n",
    "    img_path = doc.metadata[\"images\"]\n",
    "    if len(img_path) > 0:\n",
    "        for img in img_path:\n",
    "            img_list.append(img)\n",
    "            \n",
    "img_list"
   ]
  }
 ],
 "metadata": {
  "kernelspec": {
   "display_name": "rag",
   "language": "python",
   "name": "python3"
  },
  "language_info": {
   "codemirror_mode": {
    "name": "ipython",
    "version": 3
   },
   "file_extension": ".py",
   "mimetype": "text/x-python",
   "name": "python",
   "nbconvert_exporter": "python",
   "pygments_lexer": "ipython3",
   "version": "3.12.3"
  }
 },
 "nbformat": 4,
 "nbformat_minor": 2
}
