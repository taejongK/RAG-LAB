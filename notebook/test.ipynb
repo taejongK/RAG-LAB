{
 "cells": [
  {
   "cell_type": "code",
   "execution_count": 8,
   "metadata": {},
   "outputs": [
    {
     "data": {
      "text/plain": [
       "1739862070"
      ]
     },
     "execution_count": 8,
     "metadata": {},
     "output_type": "execute_result"
    }
   ],
   "source": [
    "from datetime import datetime\n",
    "\n",
    "round(datetime.now().timestamp())"
   ]
  },
  {
   "cell_type": "code",
   "execution_count": 10,
   "metadata": {},
   "outputs": [
    {
     "data": {
      "text/plain": [
       "1739862685"
      ]
     },
     "execution_count": 10,
     "metadata": {},
     "output_type": "execute_result"
    }
   ],
   "source": [
    "(int(datetime.now().timestamp()))"
   ]
  },
  {
   "cell_type": "code",
   "execution_count": null,
   "metadata": {},
   "outputs": [],
   "source": [
    "from sqlalchemy import create_engine, Column, Integer, String, Text, DateTime, func\n",
    "from sqlalchemy.orm import sessionmaker, declarative_base\n",
    "from datetime import datetime\n",
    "\n",
    "# 데이터베이스 설정\n",
    "date = datetime.now().strftime(\"%Y-%m-%d\")\n",
    "DATABASE_URL = f\"sqlite:///./chatbot.db_{date}\"\n",
    "\n",
    "engine = create_engine(DATABASE_URL, connect_args={\"check_same_thread\": False})\n",
    "SessionLocal = sessionmaker(autocommit=False, autoflush=False, bind=engine)\n",
    "\n",
    "Base = declarative_base()\n",
    "\n",
    "# 🟢 1️⃣ 채팅 기록 테이블 모델 정의\n",
    "\n",
    "\n",
    "class ChatHistory(Base):\n",
    "    __tablename__ = \"chat_history\"\n",
    "\n",
    "    id = Column(Integer, primary_key=True, autoincrement=True)  # 자동 증가 PK\n",
    "    uuid = Column(String, nullable=False, index=True)  # 챗팅룸 ID\n",
    "    question = Column(Text, nullable=False)  # 사용자 질문\n",
    "    response = Column(Text, nullable=False)  # 챗봇 응답\n",
    "    question_timestamp = Column(DateTime, default=func.now())  # 질문 시간\n",
    "    response_timestamp = Column(DateTime, default=func.now())  # 응답 시간\n",
    "\n",
    "\n",
    "# 테이블 생성\n",
    "Base.metadata.create_all(bind=engine)"
   ]
  },
  {
   "cell_type": "code",
   "execution_count": 13,
   "metadata": {},
   "outputs": [
    {
     "data": {
      "text/plain": [
       "'2025-02-18'"
      ]
     },
     "execution_count": 13,
     "metadata": {},
     "output_type": "execute_result"
    }
   ],
   "source": [
    "datetime.now().strftime(\"%Y-%m-%d\")"
   ]
  },
  {
   "cell_type": "code",
   "execution_count": 31,
   "metadata": {},
   "outputs": [
    {
     "data": {
      "text/html": [
       "<div>\n",
       "<style scoped>\n",
       "    .dataframe tbody tr th:only-of-type {\n",
       "        vertical-align: middle;\n",
       "    }\n",
       "\n",
       "    .dataframe tbody tr th {\n",
       "        vertical-align: top;\n",
       "    }\n",
       "\n",
       "    .dataframe thead th {\n",
       "        text-align: right;\n",
       "    }\n",
       "</style>\n",
       "<table border=\"1\" class=\"dataframe\">\n",
       "  <thead>\n",
       "    <tr style=\"text-align: right;\">\n",
       "      <th></th>\n",
       "      <th>id</th>\n",
       "      <th>uuid</th>\n",
       "      <th>question</th>\n",
       "      <th>response</th>\n",
       "      <th>question_timestamp</th>\n",
       "      <th>response_timestamp</th>\n",
       "    </tr>\n",
       "  </thead>\n",
       "  <tbody>\n",
       "    <tr>\n",
       "      <th>0</th>\n",
       "      <td>1</td>\n",
       "      <td>test-4412</td>\n",
       "      <td>안녕</td>\n",
       "      <td>안녕하세요</td>\n",
       "      <td>1739865557</td>\n",
       "      <td>1739865557</td>\n",
       "    </tr>\n",
       "  </tbody>\n",
       "</table>\n",
       "</div>"
      ],
      "text/plain": [
       "   id       uuid question response question_timestamp response_timestamp\n",
       "0   1  test-4412       안녕    안녕하세요         1739865557         1739865557"
      ]
     },
     "execution_count": 31,
     "metadata": {},
     "output_type": "execute_result"
    }
   ],
   "source": [
    "import sqlite3\n",
    "from datetime import datetime\n",
    "import pandas as pd\n",
    "\n",
    "conn = sqlite3.connect(\"chatbot_2025-02-18.db\")\n",
    "\n",
    "query = \"SELECT * FROM chat_history\"\n",
    "df = pd.read_sql_query(query, conn)\n",
    "conn.close()\n",
    "\n",
    "df.head()"
   ]
  },
  {
   "cell_type": "code",
   "execution_count": 49,
   "metadata": {},
   "outputs": [
    {
     "data": {
      "text/plain": [
       "'/home/taejong_kim/workspace/rag-lab/database/conversation'"
      ]
     },
     "execution_count": 49,
     "metadata": {},
     "output_type": "execute_result"
    }
   ],
   "source": [
    "import os\n",
    "\n",
    "CURRENT_PATH = os.getcwd()\n",
    "PARENT_PATH = os.path.dirname(CURRENT_PATH)\n",
    "DATABASE_PATH = os.path.join(PARENT_PATH, 'database')\n",
    "CONVERSATION_DATABASE_PATH = os.path.join(DATABASE_PATH, 'conversation')\n",
    "\n",
    "CONVERSATION_DATABASE_PATH"
   ]
  },
  {
   "cell_type": "code",
   "execution_count": 54,
   "metadata": {},
   "outputs": [
    {
     "data": {
      "text/plain": [
       "'/home/taejong_kim/workspace/rag-lab/database/conversation/chatbot_2025-02-18.db'"
      ]
     },
     "execution_count": 54,
     "metadata": {},
     "output_type": "execute_result"
    }
   ],
   "source": [
    "path"
   ]
  },
  {
   "cell_type": "code",
   "execution_count": 1,
   "metadata": {},
   "outputs": [
    {
     "data": {
      "text/html": [
       "<div>\n",
       "<style scoped>\n",
       "    .dataframe tbody tr th:only-of-type {\n",
       "        vertical-align: middle;\n",
       "    }\n",
       "\n",
       "    .dataframe tbody tr th {\n",
       "        vertical-align: top;\n",
       "    }\n",
       "\n",
       "    .dataframe thead th {\n",
       "        text-align: right;\n",
       "    }\n",
       "</style>\n",
       "<table border=\"1\" class=\"dataframe\">\n",
       "  <thead>\n",
       "    <tr style=\"text-align: right;\">\n",
       "      <th></th>\n",
       "      <th>id</th>\n",
       "      <th>uuid</th>\n",
       "      <th>question</th>\n",
       "      <th>response</th>\n",
       "      <th>question_timestamp</th>\n",
       "      <th>response_timestamp</th>\n",
       "    </tr>\n",
       "  </thead>\n",
       "  <tbody>\n",
       "    <tr>\n",
       "      <th>0</th>\n",
       "      <td>1</td>\n",
       "      <td>ab5ca3ec-a6f8-47f0-863d-b4a0ea6cbcb8</td>\n",
       "      <td>안녕</td>\n",
       "      <td>안녕하세요</td>\n",
       "      <td>1740011300</td>\n",
       "      <td>1740011300</td>\n",
       "    </tr>\n",
       "    <tr>\n",
       "      <th>1</th>\n",
       "      <td>2</td>\n",
       "      <td>ab5ca3ec-a6f8-47f0-863d-b4a0ea6cbcb8</td>\n",
       "      <td>ㅁㄴ이라ㅓ</td>\n",
       "      <td>죄송합니다. 이해할 수 없습니다.</td>\n",
       "      <td>1740011303</td>\n",
       "      <td>1740011303</td>\n",
       "    </tr>\n",
       "    <tr>\n",
       "      <th>2</th>\n",
       "      <td>3</td>\n",
       "      <td>ab5ca3ec-a6f8-47f0-863d-b4a0ea6cbcb8</td>\n",
       "      <td>좋아요</td>\n",
       "      <td>죄송합니다. 이해할 수 없습니다.</td>\n",
       "      <td>1740011305</td>\n",
       "      <td>1740011305</td>\n",
       "    </tr>\n",
       "    <tr>\n",
       "      <th>3</th>\n",
       "      <td>4</td>\n",
       "      <td>ab5ca3ec-a6f8-47f0-863d-b4a0ea6cbcb8</td>\n",
       "      <td>잘되네</td>\n",
       "      <td>죄송합니다. 이해할 수 없습니다.</td>\n",
       "      <td>1740011307</td>\n",
       "      <td>1740011307</td>\n",
       "    </tr>\n",
       "  </tbody>\n",
       "</table>\n",
       "</div>"
      ],
      "text/plain": [
       "   id                                  uuid question            response  \\\n",
       "0   1  ab5ca3ec-a6f8-47f0-863d-b4a0ea6cbcb8       안녕               안녕하세요   \n",
       "1   2  ab5ca3ec-a6f8-47f0-863d-b4a0ea6cbcb8    ㅁㄴ이라ㅓ  죄송합니다. 이해할 수 없습니다.   \n",
       "2   3  ab5ca3ec-a6f8-47f0-863d-b4a0ea6cbcb8      좋아요  죄송합니다. 이해할 수 없습니다.   \n",
       "3   4  ab5ca3ec-a6f8-47f0-863d-b4a0ea6cbcb8      잘되네  죄송합니다. 이해할 수 없습니다.   \n",
       "\n",
       "  question_timestamp response_timestamp  \n",
       "0         1740011300         1740011300  \n",
       "1         1740011303         1740011303  \n",
       "2         1740011305         1740011305  \n",
       "3         1740011307         1740011307  "
      ]
     },
     "execution_count": 1,
     "metadata": {},
     "output_type": "execute_result"
    }
   ],
   "source": [
    "import sqlite3\n",
    "from datetime import datetime\n",
    "import pandas as pd\n",
    "\n",
    "path = \"/home/taejong_kim/workspace/rag-lab/database/conversation/conversation_2025-02-20.db\"\n",
    "conn = sqlite3.connect(path)\n",
    "\n",
    "query = \"SELECT * FROM chat_history\"\n",
    "df = pd.read_sql_query(query, conn)\n",
    "conn.close()\n",
    "\n",
    "df"
   ]
  },
  {
   "cell_type": "code",
   "execution_count": 56,
   "metadata": {},
   "outputs": [
    {
     "data": {
      "text/html": [
       "<div>\n",
       "<style scoped>\n",
       "    .dataframe tbody tr th:only-of-type {\n",
       "        vertical-align: middle;\n",
       "    }\n",
       "\n",
       "    .dataframe tbody tr th {\n",
       "        vertical-align: top;\n",
       "    }\n",
       "\n",
       "    .dataframe thead th {\n",
       "        text-align: right;\n",
       "    }\n",
       "</style>\n",
       "<table border=\"1\" class=\"dataframe\">\n",
       "  <thead>\n",
       "    <tr style=\"text-align: right;\">\n",
       "      <th></th>\n",
       "      <th>id</th>\n",
       "      <th>uuid</th>\n",
       "      <th>question</th>\n",
       "      <th>response</th>\n",
       "      <th>question_timestamp</th>\n",
       "      <th>response_timestamp</th>\n",
       "    </tr>\n",
       "  </thead>\n",
       "  <tbody>\n",
       "  </tbody>\n",
       "</table>\n",
       "</div>"
      ],
      "text/plain": [
       "Empty DataFrame\n",
       "Columns: [id, uuid, question, response, question_timestamp, response_timestamp]\n",
       "Index: []"
      ]
     },
     "execution_count": 56,
     "metadata": {},
     "output_type": "execute_result"
    }
   ],
   "source": [
    "import sqlite3\n",
    "from datetime import datetime\n",
    "import pandas as pd\n",
    "\n",
    "path = \"/home/taejong_kim/workspace/rag-lab/database/conversation/conversation_2025-02-19, 13-46-24.db\"\n",
    "conn = sqlite3.connect(path)\n",
    "\n",
    "query = \"SELECT * FROM chat_history\"\n",
    "df = pd.read_sql_query(query, conn)\n",
    "conn.close()\n",
    "\n",
    "df.head()"
   ]
  },
  {
   "cell_type": "code",
   "execution_count": null,
   "metadata": {},
   "outputs": [],
   "source": [
    "from sqlalchemy import MetaData, Table\n",
    "\n",
    "metadata = MetaData()"
   ]
  },
  {
   "cell_type": "code",
   "execution_count": 2,
   "metadata": {},
   "outputs": [
    {
     "name": "stdout",
     "output_type": "stream",
     "text": [
      "/home/taejong_kim/workspace/rag-lab\n",
      "os.path.join(ROOT_PATH, 'database')  # db path\n",
      "os.path.join(DB_PATH, 'conversation')  # conversation db 저장소\n"
     ]
    }
   ],
   "source": [
    "from dotenv import load_dotenv\n",
    "import os\n",
    "\n",
    "\n",
    "load_dotenv()\n",
    "\n",
    "print(os.getenv(\"ROOT_PATH\"))\n",
    "print(os.getenv(\"DB_PATH\"))\n",
    "print(os.getenv(\"CONVERSATION_DB_PATH\"))"
   ]
  },
  {
   "cell_type": "code",
   "execution_count": 3,
   "metadata": {},
   "outputs": [
    {
     "ename": "AttributeError",
     "evalue": "module 'posixpath' has no attribute 'home'",
     "output_type": "error",
     "traceback": [
      "\u001b[0;31m---------------------------------------------------------------------------\u001b[0m",
      "\u001b[0;31mAttributeError\u001b[0m                            Traceback (most recent call last)",
      "Cell \u001b[0;32mIn[3], line 1\u001b[0m\n\u001b[0;32m----> 1\u001b[0m \u001b[43mos\u001b[49m\u001b[38;5;241;43m.\u001b[39;49m\u001b[43mpath\u001b[49m\u001b[38;5;241;43m.\u001b[39;49m\u001b[43mhome\u001b[49m()\n",
      "\u001b[0;31mAttributeError\u001b[0m: module 'posixpath' has no attribute 'home'"
     ]
    }
   ],
   "source": [
    "os.path.home()"
   ]
  },
  {
   "cell_type": "code",
   "execution_count": null,
   "metadata": {},
   "outputs": [],
   "source": [
    "from langchain_google_genai import ChatGoogleGenerativeAI\n",
    "from dotenv import load_dotenv\n",
    "import os\n",
    "\n",
    "llm = ChatGoogleGenerativeAI(model=\"gemini-1.5-pro-latest\")"
   ]
  },
  {
   "cell_type": "code",
   "execution_count": null,
   "metadata": {},
   "outputs": [],
   "source": [
    "question = \"LLM에 대해서 간략하게 설명해줘\"\n",
    "\n",
    "answer = llm.invoke(question)"
   ]
  },
  {
   "cell_type": "code",
   "execution_count": 6,
   "metadata": {},
   "outputs": [],
   "source": [
    "from langchain_core.output_parsers import StrOutputParser\n",
    "\n",
    "chain = llm | StrOutputParser()\n",
    "\n",
    "answer = chain.invoke(question)"
   ]
  },
  {
   "cell_type": "code",
   "execution_count": 7,
   "metadata": {},
   "outputs": [
    {
     "data": {
      "text/plain": [
       "'LLM은 **Large Language Model (대규모 언어 모델)**의 약자입니다. \\n\\n쉽게 말해, 엄청나게 많은 텍스트 데이터를 학습하여 인간과 유사한 텍스트를 생성하고 다양한 언어 관련 작업을 수행할 수 있도록 훈련된 인공지능 모델입니다.  \\n\\n**주요 특징:**\\n\\n* **대규모 데이터:**  방대한 양의 텍스트 데이터를 학습하여 언어의 패턴과 구조를 이해합니다.\\n* **다양한 작업 수행:** 텍스트 생성, 번역, 요약, 질의응답, 문법 및 맞춤법 검사 등 다양한 작업을 수행할 수 있습니다.\\n* **자연스러운 텍스트 생성:** 인간이 작성한 것처럼 자연스럽고 문맥에 맞는 텍스트를 생성할 수 있습니다.\\n* **딥러닝 기반:** 심층 신경망(Deep Neural Network)을 사용하여 학습됩니다.\\n\\n**예시:**\\n\\n* ChatGPT, Bard, Bing AI 등이 대표적인 LLM 기반 서비스입니다.\\n\\n**한계점:**\\n\\n* **사실과 허구 구분 어려움:** 학습 데이터에 존재하는 편견이나 오류를 그대로 반영할 수 있으며, 사실과 허구를 완벽하게 구분하지 못할 수 있습니다.\\n* **상식 부족:**  세상에 대한 일반적인 상식이 부족하여 때때로 엉뚱한 답변을 할 수 있습니다.\\n* **윤리적 문제:**  LLM이 생성한 텍스트가 악용될 가능성이 존재합니다.\\n\\n\\nLLM은 계속해서 발전하고 있으며, 앞으로 더욱 다양한 분야에서 활용될 것으로 예상됩니다.'"
      ]
     },
     "execution_count": 7,
     "metadata": {},
     "output_type": "execute_result"
    }
   ],
   "source": [
    "answer"
   ]
  }
 ],
 "metadata": {
  "kernelspec": {
   "display_name": "rag",
   "language": "python",
   "name": "python3"
  },
  "language_info": {
   "codemirror_mode": {
    "name": "ipython",
    "version": 3
   },
   "file_extension": ".py",
   "mimetype": "text/x-python",
   "name": "python",
   "nbconvert_exporter": "python",
   "pygments_lexer": "ipython3",
   "version": "3.12.3"
  }
 },
 "nbformat": 4,
 "nbformat_minor": 2
}
